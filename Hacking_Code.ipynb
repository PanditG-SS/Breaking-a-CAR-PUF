{
  "cells": [
    {
      "cell_type": "code",
      "execution_count": null,
      "metadata": {
        "id": "TdKVdV0V3pxq"
      },
      "outputs": [],
      "source": [
        "import numpy as np\n",
        "import sklearn\n",
        "from scipy.linalg import khatri_rao\n",
        "\n",
        "# You are allowed to import any submodules of sklearn that learn linear models e.g. sklearn.svm etc\n",
        "# You are not allowed to use other libraries such as keras, tensorflow etc\n",
        "# You are not allowed to use any scipy routine other than khatri_rao\n",
        "\n",
        "# SUBMIT YOUR CODE AS A SINGLE PYTHON (.PY) FILE INSIDE A ZIP ARCHIVE\n",
        "# THE NAME OF THE PYTHON FILE MUST BE submit.py\n",
        "\n",
        "# DO NOT CHANGE THE NAME OF THE METHODS my_fit, my_map etc BELOW\n",
        "# THESE WILL BE INVOKED BY THE EVALUATION SCRIPT. CHANGING THESE NAMES WILL CAUSE EVALUATION FAILURE\n",
        "\n",
        "# You may define any new functions, variables, classes here\n",
        "# For example, functions to calculate next coordinate or step length\n",
        "\n",
        "################################\n",
        "# Non Editable Region Starting #\n",
        "################################\n",
        "def my_fit( X_train, y_train ):\n",
        "################################\n",
        "#  Non Editable Region Ending  #\n",
        "################################\n",
        "\n",
        "    # Use this method to train your model using training CRPs\n",
        "    # X_train has 32 columns containing the challeenge bits\n",
        "    # y_train contains the responses\n",
        "\n",
        "    # THE RETURNED MODEL SHOULD BE A SINGLE VECTOR AND A BIAS TERM\n",
        "    # If you do not wish to use a bias term, set it to 0\n",
        "    my_model=sklearn.linear_model.LogisticRegression()\n",
        "    my_model.fit(my_map(X_train),y_train)\n",
        "    w=my_model.coef_[0]\n",
        "    b=my_model.intercept_[0]\n",
        "    return w,b\n",
        "\n",
        "################################\n",
        "# Non Editable Region Starting #\n",
        "################################\n",
        "def my_map( X ):\n",
        "################################\n",
        "#  Non Editable Region Ending  #\n",
        "################################\n",
        "    # Create polynomial features\n",
        "    feat=np.zeros((X.shape[0],528),dtype='int')\n",
        "    u=np.hstack((1-2*X,np.ones((X.shape[0],1),dtype='int')))\n",
        "    for i in range(30,-1,-1):\n",
        "      u[:,i]=np.multiply(u[:,i],u[:,i+1])\n",
        "    for p in range(0,X.shape[0]):\n",
        "    # # Use this method to create features.\n",
        "    # It is likely that my_fit will internally call my_map to create features for train points\n",
        "      v=u[p,:].reshape(33,1)\n",
        "      result=np.triu(v*v.T,k=1)\n",
        "      feat[p]=result[result!=0]\n",
        "    return feat"
      ]
    },
    {
      "cell_type": "code",
      "execution_count": null,
      "metadata": {
        "id": "clZExd5Wvs29"
      },
      "outputs": [],
      "source": [
        "def LinearSVCmodel(phiC,y_train):\n",
        "  my_model =LinearSVC(loss=\"squared_hinge\")\n",
        "  my_model.fit(phiC, y_train)\n",
        "  w=my_model.coef_[0]\n",
        "  b=my_model.intercept_[0]\n",
        "  return w,b"
      ]
    },
    {
      "cell_type": "code",
      "execution_count": null,
      "metadata": {
        "id": "DjN2TU-MwFAA"
      },
      "outputs": [],
      "source": [
        "def Logisticmodel(phiC, y_train):\n",
        "  my_model = sklearn.linear_model.LogisticRegression()\n",
        "  my_model.fit(phiC, y_train)\n",
        "  w = my_model.coef_[0]\n",
        "  b = my_model.intercept_\n",
        "  return w,b"
      ]
    },
    {
      "cell_type": "code",
      "execution_count": null,
      "metadata": {
        "id": "M5m-R8WnwFJ8"
      },
      "outputs": [],
      "source": [
        "def Ridgemodel(phiC, y_train ):\n",
        "  my_model = sklearn.linear_model.RidgeClassifier(alpha=0.05)\n",
        "  my_model.fit(phiC, y_train)\n",
        "  w = my_model.coef_[0]\n",
        "  b = my_model.intercept_[0]\n",
        "  return w,b"
      ]
    },
    {
      "cell_type": "code",
      "execution_count": null,
      "metadata": {
        "id": "81euI2Fnvigw"
      },
      "outputs": [],
      "source": [
        "Z_trn = np.loadtxt( \"train.dat\" )\n",
        "Z_tst = np.loadtxt( \"test.dat\" )\n",
        "\n",
        "n_trials = 5\n",
        "\n",
        "d_size = 0\n",
        "t_train = 0\n",
        "t_map = 0\n",
        "acc = 0"
      ]
    },
    {
      "cell_type": "code",
      "execution_count": null,
      "metadata": {
        "id": "aw-y4oNdvP5o"
      },
      "outputs": [],
      "source": [
        "import time as tm\n",
        "for t in range( n_trials ):\n",
        "\ttic = tm.perf_counter()\n",
        "\tw,b = my_fit( Z_trn[:, :-1], Z_trn[:,-1] )\n",
        "\ttoc = tm.perf_counter()\n",
        "\tt_train += toc - tic\n",
        "\td_size += w.shape[0]\n",
        "\n",
        "\ttic = tm.perf_counter()\n",
        "\tfeat = my_map( Z_tst[:, :-1] )\n",
        "\ttoc = tm.perf_counter()\n",
        "\tt_map += toc - tic\n",
        "\n",
        "\tscores = np.dot(feat,w) + b\n",
        "\tpred = np.zeros_like( scores )\n",
        "\tpred[scores > 0] = 1\n",
        "\tacc += np.average( Z_tst[ :, -1 ] == pred )"
      ]
    },
    {
      "cell_type": "code",
      "execution_count": null,
      "metadata": {
        "id": "ZD4NfAeDwEGf",
        "colab": {
          "base_uri": "https://localhost:8080/"
        },
        "outputId": "3d03f48c-b82d-49f2-8db5-755fe4b297fd"
      },
      "outputs": [
        {
          "output_type": "stream",
          "name": "stdout",
          "text": [
            "528.0 2.3375660909999967 0.3789591251999923 0.009299999999999975 99.07000000000001\n"
          ]
        }
      ],
      "source": [
        "d_size /= n_trials\n",
        "t_train /= n_trials\n",
        "t_map /= n_trials\n",
        "acc /= n_trials\n",
        "\n",
        "print( d_size, t_train, t_map, 1 - acc ,acc*100)"
      ]
    },
    {
      "cell_type": "markdown",
      "metadata": {
        "id": "RMlvZwi9wLSW"
      },
      "source": []
    }
  ],
  "metadata": {
    "colab": {
      "provenance": []
    },
    "kernelspec": {
      "display_name": "Python 3",
      "name": "python3"
    },
    "language_info": {
      "name": "python"
    }
  },
  "nbformat": 4,
  "nbformat_minor": 0
}